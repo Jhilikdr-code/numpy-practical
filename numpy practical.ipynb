{
 "cells": [
  {
   "cell_type": "markdown",
   "id": "cb64343d-a1ed-4025-a8aa-ec4fd4155a05",
   "metadata": {},
   "source": [
    "#PRACTICAL QUESTIONS"
   ]
  },
  {
   "cell_type": "markdown",
   "id": "e2276ccd-a871-41d9-8c58-914779e7ee8c",
   "metadata": {},
   "source": [
    "##1  Create a 3x3 NumPy array with random integers between 1 and 100. Then, interchange its rows and columns."
   ]
  },
  {
   "cell_type": "code",
   "execution_count": 6,
   "id": "890c8669-8ba0-4e18-9592-8312e23691eb",
   "metadata": {},
   "outputs": [
    {
     "name": "stdout",
     "output_type": "stream",
     "text": [
      "Original Array:\n",
      "[[54 77 19]\n",
      " [15  8 65]\n",
      " [28 15 37]]\n",
      "\n",
      "Transposed Array:\n",
      "[[54 15 28]\n",
      " [77  8 15]\n",
      " [19 65 37]]\n"
     ]
    }
   ],
   "source": [
    "import numpy as np\n",
    "\n",
    "# Create a 3x3 NumPy array with random integers between 1 and 100\n",
    "array_3x3 = np.random.randint(1, 101, size=(3, 3))\n",
    "\n",
    "# Interchange rows and columns (transpose the array)\n",
    "transposed_array = array_3x3.T\n",
    "\n",
    "# Print the original and transposed arrays\n",
    "print(\"Original Array:\")\n",
    "print(array_3x3)\n",
    "\n",
    "print(\"\\nTransposed Array:\")\n",
    "print(transposed_array)\n"
   ]
  },
  {
   "cell_type": "markdown",
   "id": "610050ad-f9ee-4828-85ce-19c2aed0aea7",
   "metadata": {},
   "source": [
    "##2 Generate a 1D NumPy array with 10 elements. Reshape it into a 2x5 array, then into a 5x2 array"
   ]
  },
  {
   "cell_type": "code",
   "execution_count": 9,
   "id": "a21ab32b-b0d7-4581-be81-56db792b68fc",
   "metadata": {},
   "outputs": [
    {
     "name": "stdout",
     "output_type": "stream",
     "text": [
      "Original 1D Array:\n",
      "[0 1 2 3 4 5 6 7 8 9]\n",
      "\n",
      "Reshaped into 2x5 Array:\n",
      "[[0 1 2 3 4]\n",
      " [5 6 7 8 9]]\n",
      "\n",
      "Reshaped into 5x2 Array:\n",
      "[[0 1]\n",
      " [2 3]\n",
      " [4 5]\n",
      " [6 7]\n",
      " [8 9]]\n"
     ]
    }
   ],
   "source": [
    "import numpy as np\n",
    "\n",
    "# Generate a 1D NumPy array with 10 elements\n",
    "array_1d = np.arange(10)  # Array from 0 to 9\n",
    "\n",
    "# Reshape it into a 2x5 array\n",
    "array_2x5 = array_1d.reshape(2, 5)\n",
    "\n",
    "# Reshape it into a 5x2 array\n",
    "array_5x2 = array_1d.reshape(5, 2)\n",
    "\n",
    "# Print the original and reshaped arrays\n",
    "print(\"Original 1D Array:\")\n",
    "print(array_1d)\n",
    "\n",
    "print(\"\\nReshaped into 2x5 Array:\")\n",
    "print(array_2x5)\n",
    "\n",
    "print(\"\\nReshaped into 5x2 Array:\")\n",
    "print(array_5x2)\n"
   ]
  },
  {
   "cell_type": "markdown",
   "id": "86053998-8875-410e-bdd2-79d5ca45bb40",
   "metadata": {},
   "source": [
    "##3 Create a 4x4 NumPy array with random float values. Add a border of zeros around it, resulting in a 6x6 array."
   ]
  },
  {
   "cell_type": "code",
   "execution_count": 12,
   "id": "7a0d02ab-2a32-4e33-a855-b5834e5662ce",
   "metadata": {},
   "outputs": [
    {
     "name": "stdout",
     "output_type": "stream",
     "text": [
      "Original 4x4 Array:\n",
      "[[0.55606271 0.05729563 0.6543203  0.65902468]\n",
      " [0.34706669 0.45959526 0.67448892 0.08529008]\n",
      " [0.01985373 0.30327851 0.83806986 0.02729336]\n",
      " [0.38420889 0.04389822 0.795268   0.05969929]]\n",
      "\n",
      "6x6 Array with Zero Border:\n",
      "[[0.         0.         0.         0.         0.         0.        ]\n",
      " [0.         0.55606271 0.05729563 0.6543203  0.65902468 0.        ]\n",
      " [0.         0.34706669 0.45959526 0.67448892 0.08529008 0.        ]\n",
      " [0.         0.01985373 0.30327851 0.83806986 0.02729336 0.        ]\n",
      " [0.         0.38420889 0.04389822 0.795268   0.05969929 0.        ]\n",
      " [0.         0.         0.         0.         0.         0.        ]]\n"
     ]
    }
   ],
   "source": [
    "import numpy as np\n",
    "\n",
    "# Create a 4x4 NumPy array with random float values\n",
    "array_4x4 = np.random.rand(4, 4)\n",
    "\n",
    "# Add a border of zeros around the 4x4 array to create a 6x6 array\n",
    "array_with_border = np.pad(array_4x4, pad_width=1, mode='constant', constant_values=0)\n",
    "\n",
    "# Print the original and bordered arrays\n",
    "print(\"Original 4x4 Array:\")\n",
    "print(array_4x4)\n",
    "\n",
    "print(\"\\n6x6 Array with Zero Border:\")\n",
    "print(array_with_border)\n"
   ]
  },
  {
   "cell_type": "markdown",
   "id": "cc86b72d-aa8c-4b05-82f6-69df1ad87179",
   "metadata": {},
   "source": [
    "##4  Using NumPy, create an array of integers from 10 to 60 with a step of 5."
   ]
  },
  {
   "cell_type": "code",
   "execution_count": 15,
   "id": "3febf33a-7c56-4a5f-8131-75777f7223ae",
   "metadata": {},
   "outputs": [
    {
     "name": "stdout",
     "output_type": "stream",
     "text": [
      "[10 15 20 25 30 35 40 45 50 55 60]\n"
     ]
    }
   ],
   "source": [
    "import numpy as np\n",
    "\n",
    "# Create an array of integers from 10 to 60 with a step of 5\n",
    "array = np.arange(10, 65, 5)\n",
    "print(array)\n"
   ]
  },
  {
   "cell_type": "markdown",
   "id": "705fb23b-3482-4ee3-b4bc-0fcc7d4ed88f",
   "metadata": {},
   "source": [
    "##5  Create a NumPy array of strings ['python', 'numpy', 'pandas']. Apply different case transformations \n",
    "(uppercase, lowercase, title case, etc.) to each element."
   ]
  },
  {
   "cell_type": "code",
   "execution_count": 18,
   "id": "7dd4a740-e426-4698-bede-a52ea3870339",
   "metadata": {},
   "outputs": [
    {
     "name": "stdout",
     "output_type": "stream",
     "text": [
      "['PYTHON' 'NUMPY' 'PANDAS']\n",
      "['python' 'numpy' 'pandas']\n",
      "['Python' 'Numpy' 'Pandas']\n"
     ]
    }
   ],
   "source": [
    "import numpy as np\n",
    "\n",
    "# Create a NumPy array of strings\n",
    "string_array = np.array(['python', 'numpy', 'pandas'])\n",
    "\n",
    "# Apply case transformations\n",
    "upper_case = np.char.upper(string_array)\n",
    "lower_case = np.char.lower(string_array)\n",
    "title_case = np.char.title(string_array)\n",
    "\n",
    "print(upper_case)\n",
    "print(lower_case)\n",
    "print(title_case)\n"
   ]
  },
  {
   "cell_type": "markdown",
   "id": "1f2cc5df-8039-4690-94f2-4bb59af7b0d8",
   "metadata": {},
   "source": [
    "##6  Generate a NumPy array of words. Insert a space between each character of every word in the array"
   ]
  },
  {
   "cell_type": "code",
   "execution_count": 21,
   "id": "533de9a9-01b3-4108-ad5d-7a56b1b83f97",
   "metadata": {},
   "outputs": [
    {
     "name": "stdout",
     "output_type": "stream",
     "text": [
      "['a p p l e' 'b a n a n a' 'c h e r r y']\n"
     ]
    }
   ],
   "source": [
    "import numpy as np\n",
    "\n",
    "# Generate a NumPy array of words\n",
    "words_array = np.array(['apple', 'banana', 'cherry'])\n",
    "\n",
    "# Insert a space between each character of every word\n",
    "spaced_words = np.char.join(' ', words_array)\n",
    "\n",
    "print(spaced_words)\n"
   ]
  },
  {
   "cell_type": "markdown",
   "id": "ac3189a1-c902-42e7-b701-45ffe1a1965f",
   "metadata": {},
   "source": [
    "##7 Create two 2D NumPy arrays and perform element-wise addition, subtraction, multiplication, and division"
   ]
  },
  {
   "cell_type": "code",
   "execution_count": 24,
   "id": "526d83f2-c03f-40a0-b16c-db0ad6fa0262",
   "metadata": {},
   "outputs": [
    {
     "name": "stdout",
     "output_type": "stream",
     "text": [
      "Array 1:\n",
      " [[1 2 3]\n",
      " [4 5 6]]\n",
      "Array 2:\n",
      " [[ 7  8  9]\n",
      " [10 11 12]]\n",
      "Addition:\n",
      " [[ 8 10 12]\n",
      " [14 16 18]]\n",
      "Subtraction:\n",
      " [[-6 -6 -6]\n",
      " [-6 -6 -6]]\n",
      "Multiplication:\n",
      " [[ 7 16 27]\n",
      " [40 55 72]]\n",
      "Division:\n",
      " [[0.14285714 0.25       0.33333333]\n",
      " [0.4        0.45454545 0.5       ]]\n"
     ]
    }
   ],
   "source": [
    "import numpy as np\n",
    "\n",
    "# Create two 2D NumPy arrays\n",
    "array1 = np.array([[1, 2, 3], [4, 5, 6]])\n",
    "array2 = np.array([[7, 8, 9], [10, 11, 12]])\n",
    "\n",
    "# Element-wise addition\n",
    "addition = array1 + array2\n",
    "\n",
    "# Element-wise subtraction\n",
    "subtraction = array1 - array2\n",
    "\n",
    "# Element-wise multiplication\n",
    "multiplication = array1 * array2\n",
    "\n",
    "# Element-wise division\n",
    "division = array1 / array2\n",
    "\n",
    "# Print the results\n",
    "print(\"Array 1:\\n\", array1)\n",
    "print(\"Array 2:\\n\", array2)\n",
    "print(\"Addition:\\n\", addition)\n",
    "print(\"Subtraction:\\n\", subtraction)\n",
    "print(\"Multiplication:\\n\", multiplication)\n",
    "print(\"Division:\\n\", division)\n"
   ]
  },
  {
   "cell_type": "markdown",
   "id": "7503fdb9-41a3-4081-9da7-e5c13c0ec1ae",
   "metadata": {},
   "source": [
    "##8  Use NumPy to create a 5x5 identity matrix, then extract its diagonal elements"
   ]
  },
  {
   "cell_type": "code",
   "execution_count": 27,
   "id": "7df98f46-a294-4e1f-959a-b48c3798ffb4",
   "metadata": {},
   "outputs": [
    {
     "name": "stdout",
     "output_type": "stream",
     "text": [
      "5x5 Identity Matrix:\n",
      " [[1. 0. 0. 0. 0.]\n",
      " [0. 1. 0. 0. 0.]\n",
      " [0. 0. 1. 0. 0.]\n",
      " [0. 0. 0. 1. 0.]\n",
      " [0. 0. 0. 0. 1.]]\n",
      "Diagonal Elements: [1. 1. 1. 1. 1.]\n"
     ]
    }
   ],
   "source": [
    "import numpy as np\n",
    "\n",
    "# Create a 5x5 identity matrix\n",
    "identity_matrix = np.eye(5)\n",
    "\n",
    "# Extract the diagonal elements\n",
    "diagonal_elements = np.diag(identity_matrix)\n",
    "\n",
    "# Print the results\n",
    "print(\"5x5 Identity Matrix:\\n\", identity_matrix)\n",
    "print(\"Diagonal Elements:\", diagonal_elements)\n"
   ]
  },
  {
   "cell_type": "markdown",
   "id": "4b3305d8-57ff-4ffe-a83c-8de9adb3e757",
   "metadata": {},
   "source": [
    "##9  Generate a NumPy array of 100 random integers between 0 and 1000. Find and display all prime numbers in \n",
    "this array."
   ]
  },
  {
   "cell_type": "code",
   "execution_count": 30,
   "id": "b83f7b0f-91d9-4b8d-b71d-20390b23ec9c",
   "metadata": {},
   "outputs": [
    {
     "name": "stdout",
     "output_type": "stream",
     "text": [
      "Random Integers:\n",
      " [434 377 730 359 788 961 176  62 213 506 215 222 747 424 132 788 935 870\n",
      " 915 262  94 918 926 222  52 529 671 343 192 790 156 340 500 547 531 965\n",
      " 859 128 601 558 215 722 156 667 883 668 441  39 390 602 243 310 153 714\n",
      " 224 235 730 853 643 235 245 154  92 929  68 391 532 609 981 905 661 615\n",
      " 461 162 860 214 359 213 147 676 757 873 311 861 436 965 647 152 276 336\n",
      " 217  69 392 715 654 771 109 618 688 610]\n",
      "Prime Numbers:\n",
      " [359, 547, 859, 601, 883, 853, 643, 929, 661, 461, 359, 757, 311, 647, 109]\n"
     ]
    }
   ],
   "source": [
    "import numpy as np\n",
    "\n",
    "# Generate a NumPy array of 100 random integers between 0 and 1000\n",
    "random_integers = np.random.randint(0, 1001, size=100)\n",
    "\n",
    "# Function to check if a number is prime\n",
    "def is_prime(n):\n",
    "    if n <= 1:\n",
    "        return False\n",
    "    for i in range(2, int(n**0.5) + 1):\n",
    "        if n % i == 0:\n",
    "            return False\n",
    "    return True\n",
    "\n",
    "# Find all prime numbers in the array\n",
    "prime_numbers = [num for num in random_integers if is_prime(num)]\n",
    "\n",
    "# Print the results\n",
    "print(\"Random Integers:\\n\", random_integers)\n",
    "print(\"Prime Numbers:\\n\", prime_numbers)\n"
   ]
  },
  {
   "cell_type": "markdown",
   "id": "84432ed7-1793-49ec-91c2-6c801c735de7",
   "metadata": {},
   "source": [
    "##10  Create a NumPy array representing daily temperatures for a month. Calculate and display the weekly \n",
    "averages."
   ]
  },
  {
   "cell_type": "code",
   "execution_count": 33,
   "id": "3fe484e2-3a35-4d21-92ed-5d5c11873e07",
   "metadata": {},
   "outputs": [
    {
     "name": "stdout",
     "output_type": "stream",
     "text": [
      "Daily Temperatures for the Month:\n",
      " [19 17 17 24 21 25 16 30 15 27 16 26 30 20 26 16 25 30 24 27 26 25 21 19\n",
      " 17 18 24 29 19 30]\n",
      "Weekly Temperatures:\n",
      " [[19 17 17 24 21 25 16]\n",
      " [30 15 27 16 26 30 20]\n",
      " [26 16 25 30 24 27 26]\n",
      " [25 21 19 17 18 24 29]]\n",
      "Weekly Averages:\n",
      " [19.85714286 23.42857143 24.85714286 21.85714286]\n"
     ]
    }
   ],
   "source": [
    "import numpy as np\n",
    "\n",
    "# Create a NumPy array representing daily temperatures for a month (30 days)\n",
    "# For example, using random temperatures between 15 and 30 degrees Celsius\n",
    "daily_temperatures = np.random.randint(15, 31, size=30)\n",
    "\n",
    "# Reshape the array into a 4x7 matrix (4 weeks)\n",
    "# We can ignore the last two days for the sake of simplicity\n",
    "weekly_temperatures = daily_temperatures[:28].reshape(4, 7)\n",
    "\n",
    "# Calculate weekly averages\n",
    "weekly_averages = np.mean(weekly_temperatures, axis=1)\n",
    "\n",
    "# Print the results\n",
    "print(\"Daily Temperatures for the Month:\\n\", daily_temperatures)\n",
    "print(\"Weekly Temperatures:\\n\", weekly_temperatures)\n",
    "print(\"Weekly Averages:\\n\", weekly_averages)\n"
   ]
  }
 ],
 "metadata": {
  "kernelspec": {
   "display_name": "Python 3 (ipykernel)",
   "language": "python",
   "name": "python3"
  },
  "language_info": {
   "codemirror_mode": {
    "name": "ipython",
    "version": 3
   },
   "file_extension": ".py",
   "mimetype": "text/x-python",
   "name": "python",
   "nbconvert_exporter": "python",
   "pygments_lexer": "ipython3",
   "version": "3.12.4"
  }
 },
 "nbformat": 4,
 "nbformat_minor": 5
}
